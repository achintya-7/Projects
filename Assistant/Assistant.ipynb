{
 "metadata": {
  "language_info": {
   "codemirror_mode": {
    "name": "ipython",
    "version": 3
   },
   "file_extension": ".py",
   "mimetype": "text/x-python",
   "name": "python",
   "nbconvert_exporter": "python",
   "pygments_lexer": "ipython3",
   "version": "3.9.4"
  },
  "orig_nbformat": 2,
  "kernelspec": {
   "name": "python3",
   "display_name": "Python 3",
   "language": "python"
  },
  "metadata": {
   "interpreter": {
    "hash": "916dbcbb3f70747c44a77c7bcd40155683ae19c65e1c03b4aa3499c5328201f1"
   }
  }
 },
 "nbformat": 4,
 "nbformat_minor": 2,
 "cells": [
  {
   "cell_type": "code",
   "execution_count": 23,
   "metadata": {},
   "outputs": [],
   "source": [
    "import pyttsx3\n",
    "import speech_recognition as sr\n",
    "import datetime\n",
    "import webbrowser\n",
    "import wikipedia\n",
    "import os"
   ]
  },
  {
   "cell_type": "code",
   "execution_count": 30,
   "metadata": {},
   "outputs": [],
   "source": [
    "# path = '/home/achintya/Desktop/Study Material'\n",
    "# path = os.path.realpath(path)\n",
    "# os.startfile(path)"
   ]
  },
  {
   "cell_type": "code",
   "execution_count": 2,
   "metadata": {},
   "outputs": [
    {
     "output_type": "stream",
     "name": "stdout",
     "text": [
      "en-scottish\n"
     ]
    }
   ],
   "source": [
    "engine = pyttsx3.init()\n",
    "voices = engine.getProperty('voices')\n",
    "print(voices[13].id)\n",
    "engine.setProperty('voice', 'english+f2')\n",
    "engine.setProperty('rate', 178)\n",
    "#speak(\"hello there\")"
   ]
  },
  {
   "cell_type": "code",
   "execution_count": 3,
   "metadata": {},
   "outputs": [],
   "source": [
    "\n",
    "# voices = engine.getProperty('voices')\n",
    "# for voice in voices:\n",
    "#     print(\"Voice:\")\n",
    "#     print(\" - ID: %s\" % voice.id)\n",
    "#     print(\" - Name: %s\" % voice.name)\n",
    "#     print(\" - Languages: %s\" % voice.languages)\n",
    "#     print(\" - Gender: %s\" % voice.gender)\n",
    "#     print(\" - Age: %s\" % voice.age)"
   ]
  },
  {
   "source": [
    "# engine.say(\"i am a bot\")\n",
    "# engine.runAndWait()"
   ],
   "cell_type": "code",
   "metadata": {},
   "execution_count": 4,
   "outputs": []
  },
  {
   "cell_type": "code",
   "execution_count": 5,
   "metadata": {},
   "outputs": [],
   "source": [
    "def speak(audio):\n",
    "    engine.say(audio)\n",
    "    engine.runAndWait()"
   ]
  },
  {
   "cell_type": "code",
   "execution_count": 6,
   "metadata": {},
   "outputs": [
    {
     "output_type": "execute_result",
     "data": {
      "text/plain": [
       "19"
      ]
     },
     "metadata": {},
     "execution_count": 6
    }
   ],
   "source": [
    "(datetime.datetime.now().hour)"
   ]
  },
  {
   "cell_type": "code",
   "execution_count": 7,
   "metadata": {},
   "outputs": [],
   "source": [
    "def Wishme():\n",
    "    hour = int(datetime.datetime.now().hour)\n",
    "\n",
    "    if hour>=0 and hour<12:\n",
    "        speak(\"Good Morning\")\n",
    "    elif hour>=12 and hour<=19:\n",
    "        speak(\"Good Evening\")\n",
    "    else:\n",
    "        speak(\"Working late night, sir\")\n",
    "    \n",
    "    speak(\"I am an Assistant, please give me a command\")"
   ]
  },
  {
   "cell_type": "code",
   "execution_count": 8,
   "metadata": {},
   "outputs": [],
   "source": [
    "def Commands():\n",
    "    \"\"\"\n",
    "    it takes input via micrphone and returns a string \n",
    "    \"\"\"\n",
    "\n",
    "    r = sr.Recognizer()\n",
    "    with sr.Microphone() as source:\n",
    "        print(\"Listening.....\")\n",
    "        r.pause_threshold = 1 \n",
    "        audio = r.listen(source) \n",
    "\n",
    "    try:\n",
    "        print(\"Recognizing.....\")\n",
    "        query = r.recognize_google(audio, language='en-in')        \n",
    "        print(f\"User said: {query}\\n\") \n",
    "\n",
    "    except Exception as e:\n",
    "        print(\"Say that again please......\")\n",
    "        return \"None\""
   ]
  },
  {
   "cell_type": "code",
   "execution_count": 14,
   "metadata": {},
   "outputs": [],
   "source": []
  },
  {
   "cell_type": "code",
   "execution_count": 15,
   "metadata": {},
   "outputs": [
    {
     "output_type": "stream",
     "name": "stdout",
     "text": [
      "Listening.....\n",
      "Recognizing.....\n",
      "User said: hello\n",
      "\n"
     ]
    }
   ],
   "source": [
    "if __name__ == \"__main__\":\n",
    "    Wishme()\n",
    "    if 1:\n",
    "        query = Commands().lower()\n",
    "\n",
    "        if 'wikipedia' in query:\n",
    "            speak(\"Searching wiki\")\n",
    "            query = query.replace(\"wikipedia\", \"\")\n",
    "            results = wikipedia.summary(query, sentences=2)\n",
    "            speak(results)\n",
    "            #print(results)\n",
    "\n",
    "        elif 'open youtube' in query:\n",
    "            webbrowser.open(\"youtube.com\")\n",
    "\n",
    "        elif 'open google' in query:\n",
    "            webbrowser.open(\"google.com\")\n",
    "\n",
    "        \n",
    "\n",
    "\n"
   ]
  },
  {
   "cell_type": "code",
   "execution_count": 22,
   "metadata": {},
   "outputs": [
    {
     "output_type": "stream",
     "name": "stdout",
     "text": [
      "Object `os.startfile` not found.\n"
     ]
    }
   ],
   "source": []
  },
  {
   "cell_type": "code",
   "execution_count": null,
   "metadata": {},
   "outputs": [],
   "source": []
  }
 ]
}